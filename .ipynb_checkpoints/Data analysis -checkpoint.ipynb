{
 "cells": [
  {
   "cell_type": "markdown",
   "metadata": {},
   "source": [
    "# Load all the required library \n",
    "\n",
    "- Pandas comparable with Excel. Pandas is built on Numpy.  \n",
    "- Numpy is for linear algebra, Fourier transform, and random number capabilities\n",
    "- Matplotlib and seaborn are for graphs\n",
    "- Sklearn for machine learning library "
   ]
  },
  {
   "cell_type": "code",
   "execution_count": 1,
   "metadata": {},
   "outputs": [],
   "source": [
    "import pandas as pd\n",
    "import numpy as np\n",
    "import matplotlib.pyplot as plt\n",
    "import seaborn as sns\n",
    "from sklearn.feature_selection import mutual_info_regression"
   ]
  },
  {
   "cell_type": "markdown",
   "metadata": {},
   "source": [
    "# Load the data"
   ]
  },
  {
   "cell_type": "markdown",
   "metadata": {},
   "source": [
    "Read_csv option: \n",
    "- CSV uses ';' to seperate columns use option delimiter= ';'\n",
    "- engine ={c} in increase speed of parsing "
   ]
  },
  {
   "cell_type": "code",
   "execution_count": 2,
   "metadata": {},
   "outputs": [],
   "source": [
    "path = 'C:/Users/u0107464/OneDrive/PythonScript/Arch_model_design_space_exp/Model_extracted_data/Data/Correlation_analysis/'\n",
    "data = pd.read_csv(path+'Correlation_analysis_chiller_data.csv')"
   ]
  },
  {
   "cell_type": "markdown",
   "metadata": {},
   "source": [
    "# Initial idea of the data"
   ]
  },
  {
   "cell_type": "code",
   "execution_count": 3,
   "metadata": {},
   "outputs": [
    {
     "data": {
      "text/html": [
       "<div>\n",
       "<style scoped>\n",
       "    .dataframe tbody tr th:only-of-type {\n",
       "        vertical-align: middle;\n",
       "    }\n",
       "\n",
       "    .dataframe tbody tr th {\n",
       "        vertical-align: top;\n",
       "    }\n",
       "\n",
       "    .dataframe thead th {\n",
       "        text-align: right;\n",
       "    }\n",
       "</style>\n",
       "<table border=\"1\" class=\"dataframe\">\n",
       "  <thead>\n",
       "    <tr style=\"text-align: right;\">\n",
       "      <th></th>\n",
       "      <th>$X</th>\n",
       "      <th>$Y</th>\n",
       "      <th>$H</th>\n",
       "      <th>$SL1</th>\n",
       "      <th>$SL2</th>\n",
       "      <th>$SL3</th>\n",
       "      <th>$SL4</th>\n",
       "      <th>$WWR_S</th>\n",
       "      <th>$WWR_N</th>\n",
       "      <th>$WWR_E</th>\n",
       "      <th>...</th>\n",
       "      <th>$ChillerTypeCat</th>\n",
       "      <th>Peak: Ground Floor</th>\n",
       "      <th>Peak: Intermediate Floor</th>\n",
       "      <th>Peak: Top Floor</th>\n",
       "      <th>Mean: Ground Floor</th>\n",
       "      <th>Mean: Intermediate Floor</th>\n",
       "      <th>Mean: Top Floor</th>\n",
       "      <th>Peak: Chiller Energy</th>\n",
       "      <th>Mean: Chiller Energy</th>\n",
       "      <th>Total: Chiller Energy</th>\n",
       "    </tr>\n",
       "  </thead>\n",
       "  <tbody>\n",
       "    <tr>\n",
       "      <th>0</th>\n",
       "      <td>20.0</td>\n",
       "      <td>20.0</td>\n",
       "      <td>3.000</td>\n",
       "      <td>0.01000</td>\n",
       "      <td>0.01000</td>\n",
       "      <td>0.01000</td>\n",
       "      <td>0.01000</td>\n",
       "      <td>0.0100</td>\n",
       "      <td>0.0100</td>\n",
       "      <td>0.0100</td>\n",
       "      <td>...</td>\n",
       "      <td>0</td>\n",
       "      <td>11337.83316</td>\n",
       "      <td>11414.46115</td>\n",
       "      <td>10412.70053</td>\n",
       "      <td>2113.167496</td>\n",
       "      <td>2487.05647</td>\n",
       "      <td>2407.259478</td>\n",
       "      <td>24023.1954</td>\n",
       "      <td>9511.314472</td>\n",
       "      <td>8.331911e+07</td>\n",
       "    </tr>\n",
       "    <tr>\n",
       "      <th>1</th>\n",
       "      <td>50.0</td>\n",
       "      <td>50.0</td>\n",
       "      <td>4.500</td>\n",
       "      <td>2.50500</td>\n",
       "      <td>2.50500</td>\n",
       "      <td>2.50500</td>\n",
       "      <td>2.50500</td>\n",
       "      <td>0.4800</td>\n",
       "      <td>0.4800</td>\n",
       "      <td>0.4800</td>\n",
       "      <td>...</td>\n",
       "      <td>0</td>\n",
       "      <td>153385.91250</td>\n",
       "      <td>156708.68690</td>\n",
       "      <td>131153.98670</td>\n",
       "      <td>21212.919620</td>\n",
       "      <td>23818.69559</td>\n",
       "      <td>21388.286380</td>\n",
       "      <td>180486.0413</td>\n",
       "      <td>55010.154130</td>\n",
       "      <td>4.818890e+08</td>\n",
       "    </tr>\n",
       "    <tr>\n",
       "      <th>2</th>\n",
       "      <td>65.0</td>\n",
       "      <td>35.0</td>\n",
       "      <td>3.750</td>\n",
       "      <td>1.25750</td>\n",
       "      <td>3.75250</td>\n",
       "      <td>3.75250</td>\n",
       "      <td>1.25750</td>\n",
       "      <td>0.7150</td>\n",
       "      <td>0.7150</td>\n",
       "      <td>0.7150</td>\n",
       "      <td>...</td>\n",
       "      <td>1</td>\n",
       "      <td>101713.18150</td>\n",
       "      <td>105411.62670</td>\n",
       "      <td>95695.13032</td>\n",
       "      <td>15004.982930</td>\n",
       "      <td>17410.29156</td>\n",
       "      <td>15835.306020</td>\n",
       "      <td>107845.8289</td>\n",
       "      <td>41685.852000</td>\n",
       "      <td>3.651681e+08</td>\n",
       "    </tr>\n",
       "    <tr>\n",
       "      <th>3</th>\n",
       "      <td>35.0</td>\n",
       "      <td>65.0</td>\n",
       "      <td>5.250</td>\n",
       "      <td>3.75250</td>\n",
       "      <td>1.25750</td>\n",
       "      <td>1.25750</td>\n",
       "      <td>3.75250</td>\n",
       "      <td>0.2450</td>\n",
       "      <td>0.2450</td>\n",
       "      <td>0.2450</td>\n",
       "      <td>...</td>\n",
       "      <td>0</td>\n",
       "      <td>117188.67960</td>\n",
       "      <td>124974.75170</td>\n",
       "      <td>113182.75430</td>\n",
       "      <td>19501.604010</td>\n",
       "      <td>22144.84171</td>\n",
       "      <td>20849.448860</td>\n",
       "      <td>182746.3519</td>\n",
       "      <td>61094.038630</td>\n",
       "      <td>5.351838e+08</td>\n",
       "    </tr>\n",
       "    <tr>\n",
       "      <th>4</th>\n",
       "      <td>42.5</td>\n",
       "      <td>42.5</td>\n",
       "      <td>4.875</td>\n",
       "      <td>4.37625</td>\n",
       "      <td>1.88125</td>\n",
       "      <td>0.63375</td>\n",
       "      <td>1.88125</td>\n",
       "      <td>0.8325</td>\n",
       "      <td>0.8325</td>\n",
       "      <td>0.5975</td>\n",
       "      <td>...</td>\n",
       "      <td>1</td>\n",
       "      <td>202009.34090</td>\n",
       "      <td>209944.82950</td>\n",
       "      <td>170183.17070</td>\n",
       "      <td>21693.299280</td>\n",
       "      <td>23712.53308</td>\n",
       "      <td>21126.595210</td>\n",
       "      <td>275340.6081</td>\n",
       "      <td>90263.074890</td>\n",
       "      <td>7.907045e+08</td>\n",
       "    </tr>\n",
       "  </tbody>\n",
       "</table>\n",
       "<p>5 rows × 35 columns</p>\n",
       "</div>"
      ],
      "text/plain": [
       "     $X    $Y     $H     $SL1     $SL2     $SL3     $SL4  $WWR_S  $WWR_N  \\\n",
       "0  20.0  20.0  3.000  0.01000  0.01000  0.01000  0.01000  0.0100  0.0100   \n",
       "1  50.0  50.0  4.500  2.50500  2.50500  2.50500  2.50500  0.4800  0.4800   \n",
       "2  65.0  35.0  3.750  1.25750  3.75250  3.75250  1.25750  0.7150  0.7150   \n",
       "3  35.0  65.0  5.250  3.75250  1.25750  1.25750  3.75250  0.2450  0.2450   \n",
       "4  42.5  42.5  4.875  4.37625  1.88125  0.63375  1.88125  0.8325  0.8325   \n",
       "\n",
       "   $WWR_E          ...            $ChillerTypeCat  Peak: Ground Floor  \\\n",
       "0  0.0100          ...                          0         11337.83316   \n",
       "1  0.4800          ...                          0        153385.91250   \n",
       "2  0.7150          ...                          1        101713.18150   \n",
       "3  0.2450          ...                          0        117188.67960   \n",
       "4  0.5975          ...                          1        202009.34090   \n",
       "\n",
       "   Peak: Intermediate Floor  Peak: Top Floor  Mean: Ground Floor  \\\n",
       "0               11414.46115      10412.70053         2113.167496   \n",
       "1              156708.68690     131153.98670        21212.919620   \n",
       "2              105411.62670      95695.13032        15004.982930   \n",
       "3              124974.75170     113182.75430        19501.604010   \n",
       "4              209944.82950     170183.17070        21693.299280   \n",
       "\n",
       "   Mean: Intermediate Floor  Mean: Top Floor  Peak: Chiller Energy  \\\n",
       "0                2487.05647      2407.259478            24023.1954   \n",
       "1               23818.69559     21388.286380           180486.0413   \n",
       "2               17410.29156     15835.306020           107845.8289   \n",
       "3               22144.84171     20849.448860           182746.3519   \n",
       "4               23712.53308     21126.595210           275340.6081   \n",
       "\n",
       "   Mean: Chiller Energy  Total: Chiller Energy  \n",
       "0           9511.314472           8.331911e+07  \n",
       "1          55010.154130           4.818890e+08  \n",
       "2          41685.852000           3.651681e+08  \n",
       "3          61094.038630           5.351838e+08  \n",
       "4          90263.074890           7.907045e+08  \n",
       "\n",
       "[5 rows x 35 columns]"
      ]
     },
     "execution_count": 3,
     "metadata": {},
     "output_type": "execute_result"
    }
   ],
   "source": [
    "data.head()"
   ]
  },
  {
   "cell_type": "code",
   "execution_count": 4,
   "metadata": {},
   "outputs": [
    {
     "data": {
      "text/plain": [
       "Index(['$X', '$Y', '$H', '$SL1', '$SL2', '$SL3', '$SL4', '$WWR_S', '$WWR_N',\n",
       "       '$WWR_E', ' $WWR_W', '$ORI', '$WALL_U', '$WIN_U', '$GFLOOR_U',\n",
       "       ' $FLOOR_SH', '$ROOF_U', '$WIN_G', '$ACH', '$LHG', '$EHG',\n",
       "       '$ChillerCOP', '$BoilerEfficiency', '$ChillerPumpTypeCat',\n",
       "       '$BoilerPumpTypeCat', '$ChillerTypeCat', 'Peak: Ground Floor',\n",
       "       'Peak: Intermediate Floor', 'Peak: Top Floor', 'Mean: Ground Floor',\n",
       "       'Mean: Intermediate Floor', 'Mean: Top Floor', 'Peak: Chiller Energy',\n",
       "       'Mean: Chiller Energy', 'Total: Chiller Energy'],\n",
       "      dtype='object')"
      ]
     },
     "execution_count": 4,
     "metadata": {},
     "output_type": "execute_result"
    }
   ],
   "source": [
    "data.columns"
   ]
  },
  {
   "cell_type": "code",
   "execution_count": 5,
   "metadata": {},
   "outputs": [
    {
     "data": {
      "text/html": [
       "<div>\n",
       "<style scoped>\n",
       "    .dataframe tbody tr th:only-of-type {\n",
       "        vertical-align: middle;\n",
       "    }\n",
       "\n",
       "    .dataframe tbody tr th {\n",
       "        vertical-align: top;\n",
       "    }\n",
       "\n",
       "    .dataframe thead th {\n",
       "        text-align: right;\n",
       "    }\n",
       "</style>\n",
       "<table border=\"1\" class=\"dataframe\">\n",
       "  <thead>\n",
       "    <tr style=\"text-align: right;\">\n",
       "      <th></th>\n",
       "      <th>$X</th>\n",
       "      <th>$Y</th>\n",
       "      <th>$H</th>\n",
       "      <th>$SL1</th>\n",
       "      <th>$SL2</th>\n",
       "      <th>$SL3</th>\n",
       "      <th>$SL4</th>\n",
       "      <th>$WWR_S</th>\n",
       "      <th>$WWR_N</th>\n",
       "      <th>$WWR_E</th>\n",
       "      <th>...</th>\n",
       "      <th>$ChillerTypeCat</th>\n",
       "      <th>Peak: Ground Floor</th>\n",
       "      <th>Peak: Intermediate Floor</th>\n",
       "      <th>Peak: Top Floor</th>\n",
       "      <th>Mean: Ground Floor</th>\n",
       "      <th>Mean: Intermediate Floor</th>\n",
       "      <th>Mean: Top Floor</th>\n",
       "      <th>Peak: Chiller Energy</th>\n",
       "      <th>Mean: Chiller Energy</th>\n",
       "      <th>Total: Chiller Energy</th>\n",
       "    </tr>\n",
       "  </thead>\n",
       "  <tbody>\n",
       "    <tr>\n",
       "      <th>count</th>\n",
       "      <td>4500.000000</td>\n",
       "      <td>4500.000000</td>\n",
       "      <td>4500.000000</td>\n",
       "      <td>4500.000000</td>\n",
       "      <td>4500.000000</td>\n",
       "      <td>4500.000000</td>\n",
       "      <td>4500.000000</td>\n",
       "      <td>4500.000000</td>\n",
       "      <td>4500.000000</td>\n",
       "      <td>4500.000000</td>\n",
       "      <td>...</td>\n",
       "      <td>4500.000000</td>\n",
       "      <td>4500.000000</td>\n",
       "      <td>4.500000e+03</td>\n",
       "      <td>4500.000000</td>\n",
       "      <td>4500.000000</td>\n",
       "      <td>4500.000000</td>\n",
       "      <td>4500.000000</td>\n",
       "      <td>4.500000e+03</td>\n",
       "      <td>4500.000000</td>\n",
       "      <td>4.500000e+03</td>\n",
       "    </tr>\n",
       "    <tr>\n",
       "      <th>mean</th>\n",
       "      <td>50.017578</td>\n",
       "      <td>50.002578</td>\n",
       "      <td>4.498527</td>\n",
       "      <td>2.502031</td>\n",
       "      <td>2.501615</td>\n",
       "      <td>2.504500</td>\n",
       "      <td>2.505292</td>\n",
       "      <td>0.480275</td>\n",
       "      <td>0.479707</td>\n",
       "      <td>0.480241</td>\n",
       "      <td>...</td>\n",
       "      <td>0.499333</td>\n",
       "      <td>137889.767218</td>\n",
       "      <td>4.348202e+05</td>\n",
       "      <td>125083.567595</td>\n",
       "      <td>20712.528801</td>\n",
       "      <td>75599.127636</td>\n",
       "      <td>21589.030238</td>\n",
       "      <td>2.911769e+05</td>\n",
       "      <td>101808.056058</td>\n",
       "      <td>8.918386e+08</td>\n",
       "    </tr>\n",
       "    <tr>\n",
       "      <th>std</th>\n",
       "      <td>17.322179</td>\n",
       "      <td>17.323634</td>\n",
       "      <td>0.866154</td>\n",
       "      <td>1.440758</td>\n",
       "      <td>1.440689</td>\n",
       "      <td>1.440707</td>\n",
       "      <td>1.440686</td>\n",
       "      <td>0.271381</td>\n",
       "      <td>0.271375</td>\n",
       "      <td>0.271394</td>\n",
       "      <td>...</td>\n",
       "      <td>0.500055</td>\n",
       "      <td>70088.535009</td>\n",
       "      <td>3.451883e+05</td>\n",
       "      <td>61093.359096</td>\n",
       "      <td>10860.635127</td>\n",
       "      <td>62269.478774</td>\n",
       "      <td>11225.173658</td>\n",
       "      <td>1.925209e+05</td>\n",
       "      <td>66490.230952</td>\n",
       "      <td>5.824544e+08</td>\n",
       "    </tr>\n",
       "    <tr>\n",
       "      <th>min</th>\n",
       "      <td>20.000000</td>\n",
       "      <td>20.000000</td>\n",
       "      <td>3.000000</td>\n",
       "      <td>0.010000</td>\n",
       "      <td>0.010000</td>\n",
       "      <td>0.010000</td>\n",
       "      <td>0.010000</td>\n",
       "      <td>0.010000</td>\n",
       "      <td>0.010000</td>\n",
       "      <td>0.010000</td>\n",
       "      <td>...</td>\n",
       "      <td>0.000000</td>\n",
       "      <td>11323.335280</td>\n",
       "      <td>1.141446e+04</td>\n",
       "      <td>10399.375350</td>\n",
       "      <td>2113.167496</td>\n",
       "      <td>2487.056470</td>\n",
       "      <td>2407.259478</td>\n",
       "      <td>2.402320e+04</td>\n",
       "      <td>9434.070998</td>\n",
       "      <td>8.264246e+07</td>\n",
       "    </tr>\n",
       "    <tr>\n",
       "      <th>25%</th>\n",
       "      <td>34.992676</td>\n",
       "      <td>34.992676</td>\n",
       "      <td>3.749268</td>\n",
       "      <td>1.256282</td>\n",
       "      <td>1.256282</td>\n",
       "      <td>1.256282</td>\n",
       "      <td>1.256891</td>\n",
       "      <td>0.244885</td>\n",
       "      <td>0.244885</td>\n",
       "      <td>0.244885</td>\n",
       "      <td>...</td>\n",
       "      <td>0.000000</td>\n",
       "      <td>84457.472250</td>\n",
       "      <td>1.655355e+05</td>\n",
       "      <td>78011.481200</td>\n",
       "      <td>12462.219070</td>\n",
       "      <td>27482.536790</td>\n",
       "      <td>13077.789000</td>\n",
       "      <td>1.514525e+05</td>\n",
       "      <td>53591.794567</td>\n",
       "      <td>4.694641e+08</td>\n",
       "    </tr>\n",
       "    <tr>\n",
       "      <th>50%</th>\n",
       "      <td>49.985352</td>\n",
       "      <td>49.985352</td>\n",
       "      <td>4.498535</td>\n",
       "      <td>2.502563</td>\n",
       "      <td>2.502563</td>\n",
       "      <td>2.502563</td>\n",
       "      <td>2.503782</td>\n",
       "      <td>0.479771</td>\n",
       "      <td>0.479771</td>\n",
       "      <td>0.479771</td>\n",
       "      <td>...</td>\n",
       "      <td>0.000000</td>\n",
       "      <td>125632.954750</td>\n",
       "      <td>3.424381e+05</td>\n",
       "      <td>114395.971450</td>\n",
       "      <td>18762.916390</td>\n",
       "      <td>58205.032445</td>\n",
       "      <td>19384.319960</td>\n",
       "      <td>2.411453e+05</td>\n",
       "      <td>85162.206215</td>\n",
       "      <td>7.460209e+08</td>\n",
       "    </tr>\n",
       "    <tr>\n",
       "      <th>75%</th>\n",
       "      <td>64.978027</td>\n",
       "      <td>64.978027</td>\n",
       "      <td>5.247803</td>\n",
       "      <td>3.748845</td>\n",
       "      <td>3.748845</td>\n",
       "      <td>3.748845</td>\n",
       "      <td>3.750673</td>\n",
       "      <td>0.714656</td>\n",
       "      <td>0.714656</td>\n",
       "      <td>0.714656</td>\n",
       "      <td>...</td>\n",
       "      <td>1.000000</td>\n",
       "      <td>179025.424300</td>\n",
       "      <td>6.141979e+05</td>\n",
       "      <td>161306.232100</td>\n",
       "      <td>26941.787840</td>\n",
       "      <td>108004.963200</td>\n",
       "      <td>27957.939685</td>\n",
       "      <td>3.815975e+05</td>\n",
       "      <td>133061.798275</td>\n",
       "      <td>1.165621e+09</td>\n",
       "    </tr>\n",
       "    <tr>\n",
       "      <th>max</th>\n",
       "      <td>79.970703</td>\n",
       "      <td>79.970703</td>\n",
       "      <td>5.997070</td>\n",
       "      <td>4.995127</td>\n",
       "      <td>4.995127</td>\n",
       "      <td>4.995127</td>\n",
       "      <td>4.997563</td>\n",
       "      <td>0.949541</td>\n",
       "      <td>0.949541</td>\n",
       "      <td>0.949541</td>\n",
       "      <td>...</td>\n",
       "      <td>1.000000</td>\n",
       "      <td>499700.688800</td>\n",
       "      <td>2.497191e+06</td>\n",
       "      <td>408189.815400</td>\n",
       "      <td>70820.685020</td>\n",
       "      <td>415246.675100</td>\n",
       "      <td>69058.712140</td>\n",
       "      <td>1.557656e+06</td>\n",
       "      <td>524017.105100</td>\n",
       "      <td>4.590390e+09</td>\n",
       "    </tr>\n",
       "  </tbody>\n",
       "</table>\n",
       "<p>8 rows × 35 columns</p>\n",
       "</div>"
      ],
      "text/plain": [
       "                $X           $Y           $H         $SL1         $SL2  \\\n",
       "count  4500.000000  4500.000000  4500.000000  4500.000000  4500.000000   \n",
       "mean     50.017578    50.002578     4.498527     2.502031     2.501615   \n",
       "std      17.322179    17.323634     0.866154     1.440758     1.440689   \n",
       "min      20.000000    20.000000     3.000000     0.010000     0.010000   \n",
       "25%      34.992676    34.992676     3.749268     1.256282     1.256282   \n",
       "50%      49.985352    49.985352     4.498535     2.502563     2.502563   \n",
       "75%      64.978027    64.978027     5.247803     3.748845     3.748845   \n",
       "max      79.970703    79.970703     5.997070     4.995127     4.995127   \n",
       "\n",
       "              $SL3         $SL4       $WWR_S       $WWR_N       $WWR_E  \\\n",
       "count  4500.000000  4500.000000  4500.000000  4500.000000  4500.000000   \n",
       "mean      2.504500     2.505292     0.480275     0.479707     0.480241   \n",
       "std       1.440707     1.440686     0.271381     0.271375     0.271394   \n",
       "min       0.010000     0.010000     0.010000     0.010000     0.010000   \n",
       "25%       1.256282     1.256891     0.244885     0.244885     0.244885   \n",
       "50%       2.502563     2.503782     0.479771     0.479771     0.479771   \n",
       "75%       3.748845     3.750673     0.714656     0.714656     0.714656   \n",
       "max       4.995127     4.997563     0.949541     0.949541     0.949541   \n",
       "\n",
       "               ...            $ChillerTypeCat  Peak: Ground Floor  \\\n",
       "count          ...                4500.000000         4500.000000   \n",
       "mean           ...                   0.499333       137889.767218   \n",
       "std            ...                   0.500055        70088.535009   \n",
       "min            ...                   0.000000        11323.335280   \n",
       "25%            ...                   0.000000        84457.472250   \n",
       "50%            ...                   0.000000       125632.954750   \n",
       "75%            ...                   1.000000       179025.424300   \n",
       "max            ...                   1.000000       499700.688800   \n",
       "\n",
       "       Peak: Intermediate Floor  Peak: Top Floor  Mean: Ground Floor  \\\n",
       "count              4.500000e+03      4500.000000         4500.000000   \n",
       "mean               4.348202e+05    125083.567595        20712.528801   \n",
       "std                3.451883e+05     61093.359096        10860.635127   \n",
       "min                1.141446e+04     10399.375350         2113.167496   \n",
       "25%                1.655355e+05     78011.481200        12462.219070   \n",
       "50%                3.424381e+05    114395.971450        18762.916390   \n",
       "75%                6.141979e+05    161306.232100        26941.787840   \n",
       "max                2.497191e+06    408189.815400        70820.685020   \n",
       "\n",
       "       Mean: Intermediate Floor  Mean: Top Floor  Peak: Chiller Energy  \\\n",
       "count               4500.000000      4500.000000          4.500000e+03   \n",
       "mean               75599.127636     21589.030238          2.911769e+05   \n",
       "std                62269.478774     11225.173658          1.925209e+05   \n",
       "min                 2487.056470      2407.259478          2.402320e+04   \n",
       "25%                27482.536790     13077.789000          1.514525e+05   \n",
       "50%                58205.032445     19384.319960          2.411453e+05   \n",
       "75%               108004.963200     27957.939685          3.815975e+05   \n",
       "max               415246.675100     69058.712140          1.557656e+06   \n",
       "\n",
       "       Mean: Chiller Energy  Total: Chiller Energy  \n",
       "count           4500.000000           4.500000e+03  \n",
       "mean          101808.056058           8.918386e+08  \n",
       "std            66490.230952           5.824544e+08  \n",
       "min             9434.070998           8.264246e+07  \n",
       "25%            53591.794567           4.694641e+08  \n",
       "50%            85162.206215           7.460209e+08  \n",
       "75%           133061.798275           1.165621e+09  \n",
       "max           524017.105100           4.590390e+09  \n",
       "\n",
       "[8 rows x 35 columns]"
      ]
     },
     "execution_count": 5,
     "metadata": {},
     "output_type": "execute_result"
    }
   ],
   "source": [
    "data.describe()"
   ]
  },
  {
   "cell_type": "code",
   "execution_count": 9,
   "metadata": {},
   "outputs": [
    {
     "data": {
      "text/plain": [
       "709570848.9733261"
      ]
     },
     "execution_count": 9,
     "metadata": {},
     "output_type": "execute_result"
    }
   ],
   "source": [
    "# Use of condition to explore data\n",
    "\n",
    "data['Total: Chiller Energy'][data['$ChillerCOP']>5].mean()#.describe()"
   ]
  },
  {
   "cell_type": "code",
   "execution_count": 12,
   "metadata": {},
   "outputs": [
    {
     "data": {
      "text/plain": [
       "901855579.0802124"
      ]
     },
     "execution_count": 12,
     "metadata": {},
     "output_type": "execute_result"
    }
   ],
   "source": [
    "data['Total: Chiller Energy'][(data['$ChillerCOP']>5) & (data['$X']>50)].mean()"
   ]
  },
  {
   "cell_type": "markdown",
   "metadata": {},
   "source": [
    "# Visualisation with Pandas"
   ]
  },
  {
   "cell_type": "code",
   "execution_count": 8,
   "metadata": {},
   "outputs": [
    {
     "data": {
      "text/plain": [
       "<matplotlib.axes._subplots.AxesSubplot at 0x18c961be908>"
      ]
     },
     "execution_count": 8,
     "metadata": {},
     "output_type": "execute_result"
    },
    {
     "data": {
      "image/png": "[encoded data removed]",
      "text/plain": [
       "<matplotlib.figure.Figure at 0x18c961be3c8>"
      ]
     },
     "metadata": {},
     "output_type": "display_data"
    }
   ],
   "source": [
    "# Use of condition and plot to explore data\n",
    "\n",
    "data['Total: Chiller Energy'][data['$ChillerCOP']>5].plot()"
   ]
  },
  {
   "cell_type": "code",
   "execution_count": null,
   "metadata": {},
   "outputs": [],
   "source": [
    "data.filter(like='Energy').hist(figsize=(15,10))"
   ]
  },
  {
   "cell_type": "code",
   "execution_count": null,
   "metadata": {},
   "outputs": [],
   "source": [
    "data.plot.scatter(x='$WWR_S',y='Total: Chiller Energy',figsize=(10,10))"
   ]
  },
  {
   "cell_type": "markdown",
   "metadata": {},
   "source": [
    "# Simple feature selection method"
   ]
  },
  {
   "cell_type": "code",
   "execution_count": 30,
   "metadata": {},
   "outputs": [
    {
     "data": {
      "text/plain": [
       "<matplotlib.axes._subplots.AxesSubplot at 0x21b140bc2e8>"
      ]
     },
     "execution_count": 30,
     "metadata": {},
     "output_type": "execute_result"
    },
    {
     "data": {
      "image/png": "[encoded data removed]",
      "text/plain": [
       "<matplotlib.figure.Figure at 0x21b140bcac8>"
      ]
     },
     "metadata": {},
     "output_type": "display_data"
    }
   ],
   "source": [
    "corr = data.corr()\n",
    "#corr\n",
    "f, ax = plt.subplots(figsize=(20, 10))\n",
    "sns.heatmap(corr,linewidths=.5,ax=ax,cmap=\"YlGnBu\")"
   ]
  },
  {
   "cell_type": "code",
   "execution_count": null,
   "metadata": {},
   "outputs": [],
   "source": [
    "x_list = ['$X', '$Y', '$H', '$SL1', '$SL2', '$SL3', '$SL4', '$WWR_S', '$WWR_N',\n",
    "       '$WWR_E', ' $WWR_W', '$ORI', '$WALL_U', '$WIN_U', '$GFLOOR_U',\n",
    "       ' $FLOOR_SH', '$ROOF_U', '$WIN_G', '$ACH', '$LHG', '$EHG',\n",
    "       '$ChillerCOP', '$BoilerEfficiency', '$ChillerPumpTypeCat',\n",
    "       '$BoilerPumpTypeCat', '$ChillerTypeCat','Peak: Ground Floor',\n",
    "       'Peak: Intermediate Floor', 'Peak: Top Floor', 'Mean: Ground Floor',\n",
    "       'Mean: Intermediate Floor', 'Mean: Top Floor']\n",
    "\n",
    "x = data.filter(items=x_list).values\n",
    "y = data['Total: Chiller Energy'].values\n",
    "\n",
    "mi = mutual_info_regression(x,y)\n",
    "\n",
    "for i,parameter_list in enumerate(x_list):\n",
    "    print(parameter_list,': ',mi[i])"
   ]
  },
  {
   "cell_type": "markdown",
   "metadata": {},
   "source": [
    "# Hypothesis testing"
   ]
  },
  {
   "cell_type": "code",
   "execution_count": null,
   "metadata": {},
   "outputs": [],
   "source": [
    "from scipy import stats"
   ]
  },
  {
   "cell_type": "code",
   "execution_count": null,
   "metadata": {},
   "outputs": [],
   "source": [
    "x1 = data['Peak: Ground Floor'].values\n",
    "x2 = data['Peak: Intermediate Floor'].values\n",
    "x3= data['Peak: Top Floor'].values\n",
    "\n",
    "s,p_value = stats.f_oneway(x1,x2,x3) "
   ]
  },
  {
   "cell_type": "code",
   "execution_count": null,
   "metadata": {},
   "outputs": [],
   "source": [
    "alpha = 0.05\n",
    "\n",
    "if p_value > alpha:\n",
    "    print('Samples are likely drawn from the same distributions (fail to reject H0)')\n",
    "else:\n",
    "    print('Samples are likely drawn from different distributions (reject H0)')"
   ]
  },
  {
   "cell_type": "code",
   "execution_count": null,
   "metadata": {},
   "outputs": [],
   "source": [
    "x_lable_list = ['Peak: Ground Floor','Peak: Intermediate Floor', 'Peak: Top Floor']\n",
    "x = data.filter(items=x_lable_list).values\n",
    "\n",
    "plt.figure(figsize=(10,5))\n",
    "plt.boxplot(x,labels=x_lable_list)\n",
    "plt.ylabel('Cooling load')\n",
    "plt.show"
   ]
  },
  {
   "cell_type": "code",
   "execution_count": null,
   "metadata": {},
   "outputs": [],
   "source": [
    "x1 = data['Peak: Ground Floor'].values\n",
    "x2= data['Peak: Top Floor'].values\n",
    "\n",
    "s,p_value = stats.f_oneway(x1,x2) \n",
    "\n",
    "alpha = 0.05\n",
    "\n",
    "if p_value > alpha:\n",
    "    print('Samples are likely drawn from the same distributions (fail to reject H0)')\n",
    "else:\n",
    "    print('Samples are likely drawn from different distributions (reject H0)')\n",
    "\n",
    "    \n",
    "x_lable_list = ['Peak: Ground Floor','Peak: Top Floor']\n",
    "x = data.filter(items=x_lable_list).values\n",
    "\n",
    "plt.figure(figsize=(10,5))\n",
    "plt.boxplot(x,labels=x_lable_list)\n",
    "plt.ylabel('Cooling load')\n",
    "plt.show"
   ]
  },
  {
   "cell_type": "code",
   "execution_count": null,
   "metadata": {},
   "outputs": [],
   "source": []
  }
 ],
 "metadata": {
  "kernelspec": {
   "display_name": "Python 3",
   "language": "python",
   "name": "python3"
  },
  "language_info": {
   "codemirror_mode": {
    "name": "ipython",
    "version": 3
   },
   "file_extension": ".py",
   "mimetype": "text/x-python",
   "name": "python",
   "nbconvert_exporter": "python",
   "pygments_lexer": "ipython3",
   "version": "3.6.4"
  }
 },
 "nbformat": 4,
 "nbformat_minor": 2
}
